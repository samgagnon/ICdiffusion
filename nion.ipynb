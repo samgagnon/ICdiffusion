{
 "cells": [
  {
   "cell_type": "code",
   "execution_count": 11,
   "metadata": {},
   "outputs": [],
   "source": [
    "import numpy as np\n",
    "from scipy import integrate\n",
    "import hmf"
   ]
  },
  {
   "cell_type": "code",
   "execution_count": 6,
   "metadata": {},
   "outputs": [],
   "source": [
    "model = hmf.MassFunction(z=6.0, transfer_model='EH')"
   ]
  },
  {
   "cell_type": "code",
   "execution_count": 70,
   "metadata": {},
   "outputs": [
    {
     "name": "stdout",
     "output_type": "stream",
     "text": [
      "min mass 1.0e10 Msun yields 99.3% of the total integral\n",
      "min mass 1.3e10 Msun yields 91.9% of the total integral\n",
      "min mass 1.7e10 Msun yields 84.1% of the total integral\n",
      "min mass 2.2e10 Msun yields 76.2% of the total integral\n",
      "min mass 2.8e10 Msun yields 68.30000000000001% of the total integral\n",
      "min mass 3.6e10 Msun yields 60.4% of the total integral\n",
      "min mass 4.6e10 Msun yields 52.7% of the total integral\n",
      "min mass 6.0e10 Msun yields 45.2% of the total integral\n",
      "min mass 7.7e10 Msun yields 38.1% of the total integral\n",
      "min mass 10.0e10 Msun yields 31.0% of the total integral\n"
     ]
    }
   ],
   "source": [
    "# model.m mass range\n",
    "# model.dndm mass function\n",
    "MT = 5e8\n",
    "for min_mass in np.logspace(10, 11, 10):\n",
    "    integrand = 0.05012*(0.04897/0.3096)*model.m*(model.m/1e10)**0.5 * model.dndm * np.exp(-MT/model.m)\n",
    "    total_integral = integrate.trapezoid(integrand, model.m)\n",
    "    partial_integral = integrate.trapezoid(integrand[model.m>min_mass], model.m[model.m>min_mass],)\n",
    "    print(f'min mass {np.around(min_mass/1e10, 1)}e10 Msun yields {100*np.around(partial_integral/total_integral, 3)}% of the total integral')"
   ]
  },
  {
   "cell_type": "code",
   "execution_count": null,
   "metadata": {},
   "outputs": [],
   "source": []
  },
  {
   "cell_type": "code",
   "execution_count": null,
   "metadata": {},
   "outputs": [],
   "source": []
  }
 ],
 "metadata": {
  "kernelspec": {
   "display_name": "hmf",
   "language": "python",
   "name": "python3"
  },
  "language_info": {
   "codemirror_mode": {
    "name": "ipython",
    "version": 3
   },
   "file_extension": ".py",
   "mimetype": "text/x-python",
   "name": "python",
   "nbconvert_exporter": "python",
   "pygments_lexer": "ipython3",
   "version": "3.12.1"
  }
 },
 "nbformat": 4,
 "nbformat_minor": 2
}
